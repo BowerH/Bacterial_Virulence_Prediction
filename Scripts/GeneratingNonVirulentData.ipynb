{
  "cells": [
    {
      "cell_type": "markdown",
      "metadata": {
        "id": "SKQ4bH7qMGrA"
      },
      "source": [
        "# Making the Most of your Colab Subscription\n",
        "\n"
      ]
    },
    {
      "cell_type": "code",
      "execution_count": 17,
      "metadata": {
        "colab": {
          "base_uri": "https://localhost:8080/"
        },
        "id": "avsrU0RNj5NT",
        "outputId": "e9a15cd8-cb81-4d10-ae73-d96a41fb2ceb"
      },
      "outputs": [
        {
          "name": "stdout",
          "output_type": "stream",
          "text": [
            "Drive already mounted at /content/drive; to attempt to forcibly remount, call drive.mount(\"/content/drive\", force_remount=True).\n"
          ]
        }
      ],
      "source": [
        "from google.colab import drive\n",
        "drive.mount('/content/drive')\n"
      ]
    },
    {
      "cell_type": "code",
      "execution_count": 2,
      "metadata": {
        "colab": {
          "base_uri": "https://localhost:8080/"
        },
        "collapsed": true,
        "id": "zzgxkqbUj6Ui",
        "outputId": "e4524d41-663f-416c-939d-c2b61f26450f"
      },
      "outputs": [
        {
          "name": "stdout",
          "output_type": "stream",
          "text": [
            "Collecting biopython\n",
            "  Downloading biopython-1.85-cp311-cp311-manylinux_2_17_x86_64.manylinux2014_x86_64.whl.metadata (13 kB)\n",
            "Requirement already satisfied: numpy in /usr/local/lib/python3.11/dist-packages (from biopython) (2.0.2)\n",
            "Downloading biopython-1.85-cp311-cp311-manylinux_2_17_x86_64.manylinux2014_x86_64.whl (3.3 MB)\n",
            "\u001b[2K   \u001b[90m━━━━━━━━━━━━━━━━━━━━━━━━━━━━━━━━━━━━━━━━\u001b[0m \u001b[32m3.3/3.3 MB\u001b[0m \u001b[31m66.8 MB/s\u001b[0m eta \u001b[36m0:00:00\u001b[0m\n",
            "\u001b[?25hInstalling collected packages: biopython\n",
            "Successfully installed biopython-1.85\n",
            "Reading package lists... Done\n",
            "Building dependency tree... Done\n",
            "Reading state information... Done\n",
            "The following additional packages will be installed:\n",
            "  libcifpp-data libcifpp2\n",
            "The following NEW packages will be installed:\n",
            "  dssp libcifpp-data libcifpp2\n",
            "0 upgraded, 3 newly installed, 0 to remove and 34 not upgraded.\n",
            "Need to get 1,967 kB of archives.\n",
            "After this operation, 15.0 MB of additional disk space will be used.\n",
            "Get:1 http://archive.ubuntu.com/ubuntu jammy/universe amd64 libcifpp-data all 2.0.5-1build1 [437 kB]\n",
            "Get:2 http://archive.ubuntu.com/ubuntu jammy/universe amd64 libcifpp2 amd64 2.0.5-1build1 [1,019 kB]\n",
            "Get:3 http://archive.ubuntu.com/ubuntu jammy/universe amd64 dssp amd64 4.0.4-1 [511 kB]\n",
            "Fetched 1,967 kB in 1s (2,260 kB/s)\n",
            "Preconfiguring packages ...\n",
            "Selecting previously unselected package libcifpp-data.\n",
            "(Reading database ... 126333 files and directories currently installed.)\n",
            "Preparing to unpack .../libcifpp-data_2.0.5-1build1_all.deb ...\n",
            "Unpacking libcifpp-data (2.0.5-1build1) ...\n",
            "Selecting previously unselected package libcifpp2:amd64.\n",
            "Preparing to unpack .../libcifpp2_2.0.5-1build1_amd64.deb ...\n",
            "Unpacking libcifpp2:amd64 (2.0.5-1build1) ...\n",
            "Selecting previously unselected package dssp.\n",
            "Preparing to unpack .../dssp_4.0.4-1_amd64.deb ...\n",
            "Unpacking dssp (4.0.4-1) ...\n",
            "Setting up libcifpp-data (2.0.5-1build1) ...\n",
            "Setting up libcifpp2:amd64 (2.0.5-1build1) ...\n",
            "Setting up dssp (4.0.4-1) ...\n",
            "Processing triggers for libc-bin (2.35-0ubuntu3.8) ...\n",
            "/sbin/ldconfig.real: /usr/local/lib/libhwloc.so.15 is not a symbolic link\n",
            "\n",
            "/sbin/ldconfig.real: /usr/local/lib/libtbbbind.so.3 is not a symbolic link\n",
            "\n",
            "/sbin/ldconfig.real: /usr/local/lib/libur_loader.so.0 is not a symbolic link\n",
            "\n",
            "/sbin/ldconfig.real: /usr/local/lib/libtbbbind_2_5.so.3 is not a symbolic link\n",
            "\n",
            "/sbin/ldconfig.real: /usr/local/lib/libtbbmalloc.so.2 is not a symbolic link\n",
            "\n",
            "/sbin/ldconfig.real: /usr/local/lib/libtbb.so.12 is not a symbolic link\n",
            "\n",
            "/sbin/ldconfig.real: /usr/local/lib/libtbbmalloc_proxy.so.2 is not a symbolic link\n",
            "\n",
            "/sbin/ldconfig.real: /usr/local/lib/libtcm.so.1 is not a symbolic link\n",
            "\n",
            "/sbin/ldconfig.real: /usr/local/lib/libur_adapter_level_zero.so.0 is not a symbolic link\n",
            "\n",
            "/sbin/ldconfig.real: /usr/local/lib/libur_adapter_opencl.so.0 is not a symbolic link\n",
            "\n",
            "/sbin/ldconfig.real: /usr/local/lib/libtcm_debug.so.1 is not a symbolic link\n",
            "\n",
            "/sbin/ldconfig.real: /usr/local/lib/libumf.so.0 is not a symbolic link\n",
            "\n",
            "/sbin/ldconfig.real: /usr/local/lib/libtbbbind_2_0.so.3 is not a symbolic link\n",
            "\n",
            "Processing triggers for man-db (2.10.2-1) ...\n"
          ]
        }
      ],
      "source": [
        "!pip install biopython\n",
        "!apt install -y dssp  # DSSP needed for secondary structure extraction\n"
      ]
    },
    {
      "cell_type": "code",
      "execution_count": 18,
      "metadata": {
        "colab": {
          "base_uri": "https://localhost:8080/"
        },
        "collapsed": true,
        "id": "KA4fEdzBj6dn",
        "outputId": "3e75ea69-75fc-47a0-8261-6674f6c05bfd"
      },
      "outputs": [
        {
          "name": "stdout",
          "output_type": "stream",
          "text": [
            "Requirement already satisfied: scikit-learn in /usr/local/lib/python3.11/dist-packages (1.6.1)\n",
            "Requirement already satisfied: pandas in /usr/local/lib/python3.11/dist-packages (2.2.2)\n",
            "Requirement already satisfied: matplotlib in /usr/local/lib/python3.11/dist-packages (3.10.0)\n",
            "Requirement already satisfied: imbalanced-learn in /usr/local/lib/python3.11/dist-packages (0.13.0)\n",
            "Requirement already satisfied: tensorflow in /usr/local/lib/python3.11/dist-packages (2.18.0)\n",
            "Requirement already satisfied: numpy>=1.19.5 in /usr/local/lib/python3.11/dist-packages (from scikit-learn) (2.0.2)\n",
            "Requirement already satisfied: scipy>=1.6.0 in /usr/local/lib/python3.11/dist-packages (from scikit-learn) (1.14.1)\n",
            "Requirement already satisfied: joblib>=1.2.0 in /usr/local/lib/python3.11/dist-packages (from scikit-learn) (1.4.2)\n",
            "Requirement already satisfied: threadpoolctl>=3.1.0 in /usr/local/lib/python3.11/dist-packages (from scikit-learn) (3.6.0)\n",
            "Requirement already satisfied: python-dateutil>=2.8.2 in /usr/local/lib/python3.11/dist-packages (from pandas) (2.8.2)\n",
            "Requirement already satisfied: pytz>=2020.1 in /usr/local/lib/python3.11/dist-packages (from pandas) (2025.2)\n",
            "Requirement already satisfied: tzdata>=2022.7 in /usr/local/lib/python3.11/dist-packages (from pandas) (2025.2)\n",
            "Requirement already satisfied: contourpy>=1.0.1 in /usr/local/lib/python3.11/dist-packages (from matplotlib) (1.3.2)\n",
            "Requirement already satisfied: cycler>=0.10 in /usr/local/lib/python3.11/dist-packages (from matplotlib) (0.12.1)\n",
            "Requirement already satisfied: fonttools>=4.22.0 in /usr/local/lib/python3.11/dist-packages (from matplotlib) (4.57.0)\n",
            "Requirement already satisfied: kiwisolver>=1.3.1 in /usr/local/lib/python3.11/dist-packages (from matplotlib) (1.4.8)\n",
            "Requirement already satisfied: packaging>=20.0 in /usr/local/lib/python3.11/dist-packages (from matplotlib) (24.2)\n",
            "Requirement already satisfied: pillow>=8 in /usr/local/lib/python3.11/dist-packages (from matplotlib) (11.1.0)\n",
            "Requirement already satisfied: pyparsing>=2.3.1 in /usr/local/lib/python3.11/dist-packages (from matplotlib) (3.2.3)\n",
            "Requirement already satisfied: sklearn-compat<1,>=0.1 in /usr/local/lib/python3.11/dist-packages (from imbalanced-learn) (0.1.3)\n",
            "Requirement already satisfied: absl-py>=1.0.0 in /usr/local/lib/python3.11/dist-packages (from tensorflow) (1.4.0)\n",
            "Requirement already satisfied: astunparse>=1.6.0 in /usr/local/lib/python3.11/dist-packages (from tensorflow) (1.6.3)\n",
            "Requirement already satisfied: flatbuffers>=24.3.25 in /usr/local/lib/python3.11/dist-packages (from tensorflow) (25.2.10)\n",
            "Requirement already satisfied: gast!=0.5.0,!=0.5.1,!=0.5.2,>=0.2.1 in /usr/local/lib/python3.11/dist-packages (from tensorflow) (0.6.0)\n",
            "Requirement already satisfied: google-pasta>=0.1.1 in /usr/local/lib/python3.11/dist-packages (from tensorflow) (0.2.0)\n",
            "Requirement already satisfied: libclang>=13.0.0 in /usr/local/lib/python3.11/dist-packages (from tensorflow) (18.1.1)\n",
            "Requirement already satisfied: opt-einsum>=2.3.2 in /usr/local/lib/python3.11/dist-packages (from tensorflow) (3.4.0)\n",
            "Requirement already satisfied: protobuf!=4.21.0,!=4.21.1,!=4.21.2,!=4.21.3,!=4.21.4,!=4.21.5,<6.0.0dev,>=3.20.3 in /usr/local/lib/python3.11/dist-packages (from tensorflow) (5.29.4)\n",
            "Requirement already satisfied: requests<3,>=2.21.0 in /usr/local/lib/python3.11/dist-packages (from tensorflow) (2.32.3)\n",
            "Requirement already satisfied: setuptools in /usr/local/lib/python3.11/dist-packages (from tensorflow) (75.2.0)\n",
            "Requirement already satisfied: six>=1.12.0 in /usr/local/lib/python3.11/dist-packages (from tensorflow) (1.17.0)\n",
            "Requirement already satisfied: termcolor>=1.1.0 in /usr/local/lib/python3.11/dist-packages (from tensorflow) (3.0.1)\n",
            "Requirement already satisfied: typing-extensions>=3.6.6 in /usr/local/lib/python3.11/dist-packages (from tensorflow) (4.13.2)\n",
            "Requirement already satisfied: wrapt>=1.11.0 in /usr/local/lib/python3.11/dist-packages (from tensorflow) (1.17.2)\n",
            "Requirement already satisfied: grpcio<2.0,>=1.24.3 in /usr/local/lib/python3.11/dist-packages (from tensorflow) (1.71.0)\n",
            "Requirement already satisfied: tensorboard<2.19,>=2.18 in /usr/local/lib/python3.11/dist-packages (from tensorflow) (2.18.0)\n",
            "Requirement already satisfied: keras>=3.5.0 in /usr/local/lib/python3.11/dist-packages (from tensorflow) (3.8.0)\n",
            "Requirement already satisfied: h5py>=3.11.0 in /usr/local/lib/python3.11/dist-packages (from tensorflow) (3.13.0)\n",
            "Requirement already satisfied: ml-dtypes<0.5.0,>=0.4.0 in /usr/local/lib/python3.11/dist-packages (from tensorflow) (0.4.1)\n",
            "Requirement already satisfied: tensorflow-io-gcs-filesystem>=0.23.1 in /usr/local/lib/python3.11/dist-packages (from tensorflow) (0.37.1)\n",
            "Requirement already satisfied: wheel<1.0,>=0.23.0 in /usr/local/lib/python3.11/dist-packages (from astunparse>=1.6.0->tensorflow) (0.45.1)\n",
            "Requirement already satisfied: rich in /usr/local/lib/python3.11/dist-packages (from keras>=3.5.0->tensorflow) (13.9.4)\n",
            "Requirement already satisfied: namex in /usr/local/lib/python3.11/dist-packages (from keras>=3.5.0->tensorflow) (0.0.9)\n",
            "Requirement already satisfied: optree in /usr/local/lib/python3.11/dist-packages (from keras>=3.5.0->tensorflow) (0.15.0)\n",
            "Requirement already satisfied: charset-normalizer<4,>=2 in /usr/local/lib/python3.11/dist-packages (from requests<3,>=2.21.0->tensorflow) (3.4.1)\n",
            "Requirement already satisfied: idna<4,>=2.5 in /usr/local/lib/python3.11/dist-packages (from requests<3,>=2.21.0->tensorflow) (3.10)\n",
            "Requirement already satisfied: urllib3<3,>=1.21.1 in /usr/local/lib/python3.11/dist-packages (from requests<3,>=2.21.0->tensorflow) (2.3.0)\n",
            "Requirement already satisfied: certifi>=2017.4.17 in /usr/local/lib/python3.11/dist-packages (from requests<3,>=2.21.0->tensorflow) (2025.1.31)\n",
            "Requirement already satisfied: markdown>=2.6.8 in /usr/local/lib/python3.11/dist-packages (from tensorboard<2.19,>=2.18->tensorflow) (3.8)\n",
            "Requirement already satisfied: tensorboard-data-server<0.8.0,>=0.7.0 in /usr/local/lib/python3.11/dist-packages (from tensorboard<2.19,>=2.18->tensorflow) (0.7.2)\n",
            "Requirement already satisfied: werkzeug>=1.0.1 in /usr/local/lib/python3.11/dist-packages (from tensorboard<2.19,>=2.18->tensorflow) (3.1.3)\n",
            "Requirement already satisfied: MarkupSafe>=2.1.1 in /usr/local/lib/python3.11/dist-packages (from werkzeug>=1.0.1->tensorboard<2.19,>=2.18->tensorflow) (3.0.2)\n",
            "Requirement already satisfied: markdown-it-py>=2.2.0 in /usr/local/lib/python3.11/dist-packages (from rich->keras>=3.5.0->tensorflow) (3.0.0)\n",
            "Requirement already satisfied: pygments<3.0.0,>=2.13.0 in /usr/local/lib/python3.11/dist-packages (from rich->keras>=3.5.0->tensorflow) (2.18.0)\n",
            "Requirement already satisfied: mdurl~=0.1 in /usr/local/lib/python3.11/dist-packages (from markdown-it-py>=2.2.0->rich->keras>=3.5.0->tensorflow) (0.1.2)\n"
          ]
        }
      ],
      "source": [
        "!pip install scikit-learn pandas matplotlib imbalanced-learn tensorflow"
      ]
    },
    {
      "cell_type": "code",
      "execution_count": 90,
      "metadata": {
        "colab": {
          "base_uri": "https://localhost:8080/"
        },
        "id": "7E4uNk1M1UW9",
        "outputId": "b8639ec2-c679-49bf-a3f0-5f09fb396f6e"
      },
      "outputs": [
        {
          "name": "stderr",
          "output_type": "stream",
          "text": [
            "\rFetching Expanded Non-Virulent Proteins:   0%|          | 0/26 [00:00<?, ?it/s]"
          ]
        },
        {
          "name": "stdout",
          "output_type": "stream",
          "text": [
            "\n",
            "Fetching non-virulent proteins for Escherichia_coli...\n"
          ]
        },
        {
          "name": "stderr",
          "output_type": "stream",
          "text": [
            "\rFetching Expanded Non-Virulent Proteins:   4%|▍         | 1/26 [00:00<00:09,  2.56it/s]"
          ]
        },
        {
          "name": "stdout",
          "output_type": "stream",
          "text": [
            "✅ Found 724 proteins for Escherichia_coli\n",
            "\n",
            "Fetching non-virulent proteins for Staphylococcus_aureus...\n"
          ]
        },
        {
          "name": "stderr",
          "output_type": "stream",
          "text": [
            "\rFetching Expanded Non-Virulent Proteins:   8%|▊         | 2/26 [00:00<00:09,  2.46it/s]"
          ]
        },
        {
          "name": "stdout",
          "output_type": "stream",
          "text": [
            "✅ Found 321 proteins for Staphylococcus_aureus\n",
            "\n",
            "Fetching non-virulent proteins for Pseudomonas_aeruginosa...\n"
          ]
        },
        {
          "name": "stderr",
          "output_type": "stream",
          "text": [
            "\rFetching Expanded Non-Virulent Proteins:  12%|█▏        | 3/26 [00:01<00:15,  1.51it/s]"
          ]
        },
        {
          "name": "stdout",
          "output_type": "stream",
          "text": [
            "✅ Found 93 proteins for Pseudomonas_aeruginosa\n",
            "\n",
            "Fetching non-virulent proteins for Salmonella_enterica...\n"
          ]
        },
        {
          "name": "stderr",
          "output_type": "stream",
          "text": [
            "\rFetching Expanded Non-Virulent Proteins:  15%|█▌        | 4/26 [00:02<00:17,  1.26it/s]"
          ]
        },
        {
          "name": "stdout",
          "output_type": "stream",
          "text": [
            "✅ Found 0 proteins for Salmonella_enterica\n",
            "\n",
            "Fetching non-virulent proteins for Listeria_monocytogenes...\n"
          ]
        },
        {
          "name": "stderr",
          "output_type": "stream",
          "text": [
            "\rFetching Expanded Non-Virulent Proteins:  19%|█▉        | 5/26 [00:03<00:17,  1.20it/s]"
          ]
        },
        {
          "name": "stdout",
          "output_type": "stream",
          "text": [
            "✅ Found 10 proteins for Listeria_monocytogenes\n",
            "\n",
            "Fetching non-virulent proteins for Vibrio_cholerae...\n"
          ]
        },
        {
          "name": "stderr",
          "output_type": "stream",
          "text": [
            "\rFetching Expanded Non-Virulent Proteins:  23%|██▎       | 6/26 [00:04<00:18,  1.10it/s]"
          ]
        },
        {
          "name": "stdout",
          "output_type": "stream",
          "text": [
            "✅ Found 13 proteins for Vibrio_cholerae\n",
            "\n",
            "Fetching non-virulent proteins for Mycobacterium_tuberculosis...\n"
          ]
        },
        {
          "name": "stderr",
          "output_type": "stream",
          "text": [
            "\rFetching Expanded Non-Virulent Proteins:  27%|██▋       | 7/26 [00:05<00:17,  1.08it/s]"
          ]
        },
        {
          "name": "stdout",
          "output_type": "stream",
          "text": [
            "✅ Found 4 proteins for Mycobacterium_tuberculosis\n",
            "\n",
            "Fetching non-virulent proteins for Shigella_flexneri...\n"
          ]
        },
        {
          "name": "stderr",
          "output_type": "stream",
          "text": [
            "\rFetching Expanded Non-Virulent Proteins:  31%|███       | 8/26 [00:07<00:20,  1.13s/it]"
          ]
        },
        {
          "name": "stdout",
          "output_type": "stream",
          "text": [
            "✅ Found 1696 proteins for Shigella_flexneri\n",
            "\n",
            "Fetching non-virulent proteins for Klebsiella_pneumoniae...\n"
          ]
        },
        {
          "name": "stderr",
          "output_type": "stream",
          "text": [
            "\rFetching Expanded Non-Virulent Proteins:  35%|███▍      | 9/26 [00:07<00:15,  1.08it/s]"
          ]
        },
        {
          "name": "stdout",
          "output_type": "stream",
          "text": [
            "✅ Found 231 proteins for Klebsiella_pneumoniae\n",
            "\n",
            "Fetching non-virulent proteins for Yersinia_pestis...\n"
          ]
        },
        {
          "name": "stderr",
          "output_type": "stream",
          "text": [
            "\rFetching Expanded Non-Virulent Proteins:  38%|███▊      | 10/26 [00:09<00:17,  1.07s/it]"
          ]
        },
        {
          "name": "stdout",
          "output_type": "stream",
          "text": [
            "✅ Found 1030 proteins for Yersinia_pestis\n",
            "\n",
            "Fetching non-virulent proteins for Helicobacter_pylori...\n"
          ]
        },
        {
          "name": "stderr",
          "output_type": "stream",
          "text": [
            "\rFetching Expanded Non-Virulent Proteins:  42%|████▏     | 11/26 [00:09<00:13,  1.08it/s]"
          ]
        },
        {
          "name": "stdout",
          "output_type": "stream",
          "text": [
            "✅ Found 21 proteins for Helicobacter_pylori\n",
            "\n",
            "Fetching non-virulent proteins for Campylobacter_jejuni...\n"
          ]
        },
        {
          "name": "stderr",
          "output_type": "stream",
          "text": [
            "\rFetching Expanded Non-Virulent Proteins:  46%|████▌     | 12/26 [00:10<00:13,  1.03it/s]"
          ]
        },
        {
          "name": "stdout",
          "output_type": "stream",
          "text": [
            "✅ Found 9 proteins for Campylobacter_jejuni\n",
            "\n",
            "Fetching non-virulent proteins for Neisseria_meningitidis...\n"
          ]
        },
        {
          "name": "stderr",
          "output_type": "stream",
          "text": [
            "\rFetching Expanded Non-Virulent Proteins:  50%|█████     | 13/26 [00:11<00:12,  1.03it/s]"
          ]
        },
        {
          "name": "stdout",
          "output_type": "stream",
          "text": [
            "✅ Found 14 proteins for Neisseria_meningitidis\n",
            "\n",
            "Fetching non-virulent proteins for Haemophilus_influenzae...\n"
          ]
        },
        {
          "name": "stderr",
          "output_type": "stream",
          "text": [
            "\rFetching Expanded Non-Virulent Proteins:  54%|█████▍    | 14/26 [00:12<00:11,  1.04it/s]"
          ]
        },
        {
          "name": "stdout",
          "output_type": "stream",
          "text": [
            "✅ Found 66 proteins for Haemophilus_influenzae\n",
            "\n",
            "Fetching non-virulent proteins for Bordetella_pertussis...\n"
          ]
        },
        {
          "name": "stderr",
          "output_type": "stream",
          "text": [
            "\rFetching Expanded Non-Virulent Proteins:  58%|█████▊    | 15/26 [00:13<00:10,  1.02it/s]"
          ]
        },
        {
          "name": "stdout",
          "output_type": "stream",
          "text": [
            "✅ Found 2 proteins for Bordetella_pertussis\n",
            "\n",
            "Fetching non-virulent proteins for Francisella_tularensis...\n"
          ]
        },
        {
          "name": "stderr",
          "output_type": "stream",
          "text": [
            "\rFetching Expanded Non-Virulent Proteins:  62%|██████▏   | 16/26 [00:14<00:09,  1.02it/s]"
          ]
        },
        {
          "name": "stdout",
          "output_type": "stream",
          "text": [
            "✅ Found 4 proteins for Francisella_tularensis\n",
            "\n",
            "Fetching non-virulent proteins for Legionella_pneumophila...\n"
          ]
        },
        {
          "name": "stderr",
          "output_type": "stream",
          "text": [
            "\rFetching Expanded Non-Virulent Proteins:  65%|██████▌   | 17/26 [00:15<00:08,  1.03it/s]"
          ]
        },
        {
          "name": "stdout",
          "output_type": "stream",
          "text": [
            "✅ Found 36 proteins for Legionella_pneumophila\n",
            "\n",
            "Fetching non-virulent proteins for Bacillus_subtilis...\n"
          ]
        },
        {
          "name": "stderr",
          "output_type": "stream",
          "text": [
            "Fetching Expanded Non-Virulent Proteins:  73%|███████▎  | 19/26 [00:19<00:09,  1.31s/it]"
          ]
        },
        {
          "name": "stdout",
          "output_type": "stream",
          "text": [
            "✅ Found 4191 proteins for Bacillus_subtilis\n",
            "\n",
            "Fetching non-virulent proteins for Lactobacillus_rhamnosus...\n",
            "✅ Found 10 proteins for Lactobacillus_rhamnosus\n",
            "\n",
            "Fetching non-virulent proteins for Bifidobacterium_longum...\n"
          ]
        },
        {
          "name": "stderr",
          "output_type": "stream",
          "text": [
            "\rFetching Expanded Non-Virulent Proteins:  77%|███████▋  | 20/26 [00:19<00:05,  1.05it/s]"
          ]
        },
        {
          "name": "stdout",
          "output_type": "stream",
          "text": [
            "✅ Found 4 proteins for Bifidobacterium_longum\n",
            "\n",
            "Fetching non-virulent proteins for Streptococcus_thermophilus...\n"
          ]
        },
        {
          "name": "stderr",
          "output_type": "stream",
          "text": [
            "\rFetching Expanded Non-Virulent Proteins:  81%|████████  | 21/26 [00:20<00:04,  1.04it/s]"
          ]
        },
        {
          "name": "stdout",
          "output_type": "stream",
          "text": [
            "✅ Found 54 proteins for Streptococcus_thermophilus\n",
            "\n",
            "Fetching non-virulent proteins for Corynebacterium_glutamicum...\n"
          ]
        },
        {
          "name": "stderr",
          "output_type": "stream",
          "text": [
            "\rFetching Expanded Non-Virulent Proteins:  85%|████████▍ | 22/26 [00:21<00:03,  1.03it/s]"
          ]
        },
        {
          "name": "stdout",
          "output_type": "stream",
          "text": [
            "✅ Found 9 proteins for Corynebacterium_glutamicum\n",
            "\n",
            "Fetching non-virulent proteins for Rhizobium_leguminosarum...\n"
          ]
        },
        {
          "name": "stderr",
          "output_type": "stream",
          "text": [
            "\rFetching Expanded Non-Virulent Proteins:  88%|████████▊ | 23/26 [00:22<00:02,  1.01it/s]"
          ]
        },
        {
          "name": "stdout",
          "output_type": "stream",
          "text": [
            "✅ Found 31 proteins for Rhizobium_leguminosarum\n",
            "\n",
            "Fetching non-virulent proteins for Caulobacter_crescentus...\n"
          ]
        },
        {
          "name": "stderr",
          "output_type": "stream",
          "text": [
            "\rFetching Expanded Non-Virulent Proteins:  92%|█████████▏| 24/26 [00:23<00:01,  1.02it/s]"
          ]
        },
        {
          "name": "stdout",
          "output_type": "stream",
          "text": [
            "✅ Found 0 proteins for Caulobacter_crescentus\n",
            "\n",
            "Fetching non-virulent proteins for Synechocystis_sp_PCC6803...\n"
          ]
        },
        {
          "name": "stderr",
          "output_type": "stream",
          "text": [
            "\rFetching Expanded Non-Virulent Proteins:  96%|█████████▌| 25/26 [00:24<00:00,  1.02it/s]"
          ]
        },
        {
          "name": "stdout",
          "output_type": "stream",
          "text": [
            "✅ Found 0 proteins for Synechocystis_sp_PCC6803\n",
            "\n",
            "Fetching non-virulent proteins for Deinococcus_radiodurans...\n"
          ]
        },
        {
          "name": "stderr",
          "output_type": "stream",
          "text": [
            "Fetching Expanded Non-Virulent Proteins: 100%|██████████| 26/26 [00:25<00:00,  1.01it/s]"
          ]
        },
        {
          "name": "stdout",
          "output_type": "stream",
          "text": [
            "✅ Found 1 proteins for Deinococcus_radiodurans\n",
            "\n",
            "✅ TOTAL non-virulent proteins collected: 8574\n",
            "✅ Saved to /content/drive/MyDrive/NonVirulent_Proteins_Expanded\n"
          ]
        },
        {
          "name": "stderr",
          "output_type": "stream",
          "text": [
            "\n"
          ]
        }
      ],
      "source": [
        "import requests\n",
        "import pandas as pd\n",
        "import os\n",
        "from tqdm import tqdm\n",
        "\n",
        "# expanded list of bacteria (pathogens + non-pathogens)\n",
        "expanded_species_taxids = {\n",
        "    # VFDB pathogens\n",
        "    \"Escherichia_coli\": \"562\",\n",
        "    \"Staphylococcus_aureus\": \"1280\",\n",
        "    \"Pseudomonas_aeruginosa\": \"287\",\n",
        "    \"Salmonella_enterica\": \"28901\",\n",
        "    \"Listeria_monocytogenes\": \"1639\",\n",
        "    \"Vibrio_cholerae\": \"666\",\n",
        "    \"Mycobacterium_tuberculosis\": \"1773\",\n",
        "    \"Shigella_flexneri\": \"623\",\n",
        "    \"Klebsiella_pneumoniae\": \"573\",\n",
        "    \"Yersinia_pestis\": \"632\",\n",
        "    \"Helicobacter_pylori\": \"210\",\n",
        "    \"Campylobacter_jejuni\": \"197\",\n",
        "    \"Neisseria_meningitidis\": \"487\",\n",
        "    \"Haemophilus_influenzae\": \"727\",\n",
        "    \"Bordetella_pertussis\": \"520\",\n",
        "    \"Francisella_tularensis\": \"263\",\n",
        "    \"Legionella_pneumophila\": \"446\",\n",
        "    # Extra safe non-pathogens\n",
        "    \"Bacillus_subtilis\": \"224308\",\n",
        "    \"Lactobacillus_rhamnosus\": \"47715\",\n",
        "    \"Bifidobacterium_longum\": \"216816\",\n",
        "    \"Streptococcus_thermophilus\": \"1308\",\n",
        "    \"Corynebacterium_glutamicum\": \"1718\",\n",
        "    \"Rhizobium_leguminosarum\": \"384\",\n",
        "    \"Caulobacter_crescentus\": \"155892\",\n",
        "    \"Synechocystis_sp_PCC6803\": \"1148\",\n",
        "    \"Deinococcus_radiodurans\": \"1299\"\n",
        "}\n",
        "\n",
        "# function to fetch non-virulent UniProt IDs\n",
        "def fetch_non_virulent_uniprot_ids(taxid, max_results=2000):\n",
        "    base_url = \"https://rest.uniprot.org/uniprotkb/stream\"\n",
        "    query = f\"(organism_id:{taxid}) AND (reviewed:true)\"\n",
        "    params = {\n",
        "        \"query\": query,\n",
        "        \"format\": \"tsv\",\n",
        "        \"fields\": \"accession\",\n",
        "        \"size\": max_results\n",
        "    }\n",
        "    response = requests.get(base_url, params=params)\n",
        "    if response.status_code == 200:\n",
        "        lines = response.text.strip().split(\"\\n\")\n",
        "        uniprot_ids = [line.strip() for line in lines[1:]]  # skip header\n",
        "        return uniprot_ids\n",
        "    else:\n",
        "        print(f\"❌ Failed fetching for taxid {taxid}\")\n",
        "        return []\n",
        "\n",
        "# fetch and save\n",
        "output_folder = \"/content/drive/MyDrive/NonVirulent_Proteins_Expanded\"\n",
        "os.makedirs(output_folder, exist_ok=True)\n",
        "\n",
        "all_non_virulent_ids = []\n",
        "\n",
        "for organism, taxid in tqdm(expanded_species_taxids.items(), desc=\"Fetching Expanded Non-Virulent Proteins\"):\n",
        "    print(f\"\\nFetching non-virulent proteins for {organism}...\")\n",
        "    ids = fetch_non_virulent_uniprot_ids(taxid, max_results=2000)\n",
        "    print(f\"✅ Found {len(ids)} proteins for {organism}\")\n",
        "\n",
        "    pd.DataFrame(ids, columns=[\"UniProt_ID\"]).to_csv(\n",
        "        os.path.join(output_folder, f\"non_virulent_{organism}.csv\"), index=False\n",
        "    )\n",
        "    all_non_virulent_ids.extend(ids)\n",
        "\n",
        "# save the combined list\n",
        "pd.DataFrame(sorted(set(all_non_virulent_ids)), columns=[\"UniProt_ID\"]).to_csv(\n",
        "    os.path.join(output_folder, \"non_virulent_all_expanded.csv\"), index=False\n",
        ")\n",
        "\n",
        "print(\"\\nTOTAL non-virulent proteins collected:\", len(set(all_non_virulent_ids)))\n",
        "print(f\"Saved to {output_folder}\")\n"
      ]
    },
    {
      "cell_type": "code",
      "execution_count": 91,
      "metadata": {
        "colab": {
          "base_uri": "https://localhost:8080/"
        },
        "id": "x7vs8Six1UbO",
        "outputId": "ce6b533a-d36b-419f-b1f8-20aae9458eb6"
      },
      "outputs": [
        {
          "name": "stderr",
          "output_type": "stream",
          "text": [
            "Downloading AlphaFold PDBs: 100%|██████████| 8574/8574 [10:31<00:00, 13.57it/s]"
          ]
        },
        {
          "name": "stdout",
          "output_type": "stream",
          "text": [
            "\n",
            "✅ Download complete. Summary saved!\n"
          ]
        },
        {
          "name": "stderr",
          "output_type": "stream",
          "text": [
            "\n"
          ]
        }
      ],
      "source": [
        "import os\n",
        "import pandas as pd\n",
        "import requests\n",
        "from tqdm import tqdm\n",
        "\n",
        "# load your expanded UniProt IDs\n",
        "expanded_ids_df = pd.read_csv(\"/content/drive/MyDrive/NonVirulent_Proteins_Expanded/non_virulent_all_expanded.csv\")\n",
        "uniprot_ids = expanded_ids_df[\"UniProt_ID\"].dropna().tolist()\n",
        "\n",
        "# prepare download folder\n",
        "output_folder = \"/content/drive/MyDrive/NonVirulent_AlphaFold_PDBs\"\n",
        "os.makedirs(output_folder, exist_ok=True)\n",
        "\n",
        "# download function\n",
        "def download_alphafold_pdb(uniprot_id, output_folder):\n",
        "    url = f\"https://alphafold.ebi.ac.uk/files/AF-{uniprot_id}-F1-model_v4.pdb\"\n",
        "    output_path = os.path.join(output_folder, f\"{uniprot_id}.pdb\")\n",
        "\n",
        "    if os.path.exists(output_path):\n",
        "        return \"Already exists\"\n",
        "\n",
        "    response = requests.get(url)\n",
        "    if response.status_code == 200:\n",
        "        with open(output_path, \"wb\") as f:\n",
        "            f.write(response.content)\n",
        "        return \"Downloaded\"\n",
        "    else:\n",
        "        return \"Not found\"\n",
        "\n",
        "# download all\n",
        "results = []\n",
        "\n",
        "for uniprot_id in tqdm(uniprot_ids, desc=\"Downloading AlphaFold PDBs\"):\n",
        "    status = download_alphafold_pdb(uniprot_id, output_folder)\n",
        "    results.append({\"UniProt_ID\": uniprot_id, \"Status\": status})\n",
        "\n",
        "# save the download summary\n",
        "pd.DataFrame(results).to_csv(os.path.join(output_folder, \"download_summary.csv\"), index=False)\n",
        "\n",
        "print(\"\\n✅ Download complete. Summary saved!\")\n"
      ]
    },
    {
      "cell_type": "code",
      "execution_count": 94,
      "metadata": {
        "colab": {
          "base_uri": "https://localhost:8080/"
        },
        "id": "3YhPhDocUGXI",
        "outputId": "e3cb3818-340a-4f4d-ee58-0a96936f566a"
      },
      "outputs": [
        {
          "name": "stderr",
          "output_type": "stream",
          "text": [
            "Extracting Features (Safe Mode): 100%|██████████| 8514/8514 [1:12:44<00:00,  1.95it/s]"
          ]
        },
        {
          "name": "stdout",
          "output_type": "stream",
          "text": [
            "\n",
            "✅ Feature extraction complete! Clean features saved to /content/drive/MyDrive/NonVirulent_AlphaFold_PDBs/structure_features_extracted_clean.csv\n"
          ]
        },
        {
          "name": "stderr",
          "output_type": "stream",
          "text": [
            "\n"
          ]
        }
      ],
      "source": [
        "import os\n",
        "import pandas as pd\n",
        "from Bio.PDB import PDBParser, DSSP\n",
        "from tqdm import tqdm\n",
        "import numpy as np\n",
        "\n",
        "# Path to PDBs\n",
        "pdb_folder = \"/content/drive/MyDrive/NonVirulent_AlphaFold_PDBs\"\n",
        "output_csv = \"/content/drive/MyDrive/NonVirulent_AlphaFold_PDBs/structure_features_extracted_clean.csv\"\n",
        "\n",
        "parser = PDBParser(QUIET=True)\n",
        "\n",
        "def extract_features(pdb_path):\n",
        "    features = {\n",
        "        \"UniProt_ID\": os.path.basename(pdb_path).split(\".\")[0],\n",
        "        \"mean_pLDDT\": np.nan,\n",
        "        \"alpha_helix_content\": np.nan,\n",
        "        \"beta_sheet_content\": np.nan,\n",
        "        \"coil_content\": np.nan,\n",
        "        \"hbond_density\": np.nan\n",
        "    }\n",
        "\n",
        "    try:\n",
        "        structure = parser.get_structure(\"model\", pdb_path)\n",
        "        model = structure[0]\n",
        "\n",
        "        # Mean pLDDT\n",
        "        b_factors = [atom.get_bfactor() for atom in model.get_atoms()]\n",
        "        if len(b_factors) > 0:\n",
        "            features[\"mean_pLDDT\"] = np.mean(b_factors)\n",
        "\n",
        "        # DSSP\n",
        "        try:\n",
        "            dssp = DSSP(model, pdb_path)\n",
        "            ss_counts = {\"H\":0, \"B\":0, \"E\":0, \"G\":0, \"I\":0, \"T\":0, \"S\":0, \"-\":0}\n",
        "            hbonds = []\n",
        "\n",
        "            for key in dssp.keys():\n",
        "                ss = dssp[key][2]\n",
        "                if ss in ss_counts:\n",
        "                    ss_counts[ss] += 1\n",
        "                hbonds.append(dssp[key][3])\n",
        "\n",
        "            total = sum(ss_counts.values())\n",
        "            if total > 0:\n",
        "                helix_types = ss_counts[\"H\"] + ss_counts[\"G\"] + ss_counts[\"I\"]\n",
        "                sheet_types = ss_counts[\"E\"] + ss_counts[\"B\"]\n",
        "                coil_types = ss_counts[\"T\"] + ss_counts[\"S\"] + ss_counts[\"-\"]\n",
        "\n",
        "                features[\"alpha_helix_content\"] = helix_types / total\n",
        "                features[\"beta_sheet_content\"] = sheet_types / total\n",
        "                features[\"coil_content\"] = coil_types / total\n",
        "\n",
        "            if len(hbonds) > 0:\n",
        "                features[\"hbond_density\"] = np.mean(hbonds)\n",
        "\n",
        "        except Exception as dssp_error:\n",
        "            # DSSP-specific failure\n",
        "            pass\n",
        "\n",
        "    except Exception as pdb_error:\n",
        "        # Bad PDB structure\n",
        "        pass\n",
        "\n",
        "    return features\n",
        "\n",
        "# Batch Extraction\n",
        "all_features = []\n",
        "pdb_files = [os.path.join(pdb_folder, f) for f in os.listdir(pdb_folder) if f.endswith(\".pdb\")]\n",
        "\n",
        "for pdb_path in tqdm(pdb_files, desc=\"Extracting Features (Safe Mode)\"):\n",
        "    feats = extract_features(pdb_path)\n",
        "    all_features.append(feats)\n",
        "\n",
        "# Save features\n",
        "features_df = pd.DataFrame(all_features)\n",
        "features_df.to_csv(output_csv, index=False)\n",
        "\n",
        "print(f\"\\nFeature extraction complete! Clean features saved to {output_csv}\")\n"
      ]
    },
    {
      "cell_type": "code",
      "execution_count": 95,
      "metadata": {
        "colab": {
          "base_uri": "https://localhost:8080/",
          "height": 242
        },
        "id": "kkKl040nUGe6",
        "outputId": "bf4c51a9-aa20-4a29-e4cf-c73b99922814"
      },
      "outputs": [
        {
          "data": {
            "application/vnd.google.colaboratory.intrinsic+json": {
              "summary": "{\n  \"name\": \"df\",\n  \"rows\": 8514,\n  \"fields\": [\n    {\n      \"column\": \"UniProt_ID\",\n      \"properties\": {\n        \"dtype\": \"string\",\n        \"num_unique_values\": 8514,\n        \"samples\": [\n          \"P39643\",\n          \"P40127\",\n          \"P94413\"\n        ],\n        \"semantic_type\": \"\",\n        \"description\": \"\"\n      }\n    },\n    {\n      \"column\": \"mean_pLDDT\",\n      \"properties\": {\n        \"dtype\": \"number\",\n        \"std\": 8.1568635176163,\n        \"min\": 27.006581071166543,\n        \"max\": 98.72263632053108,\n        \"num_unique_values\": 8514,\n        \"samples\": [\n          95.1542423283771,\n          84.57403013458163,\n          89.77112721417069\n        ],\n        \"semantic_type\": \"\",\n        \"description\": \"\"\n      }\n    },\n    {\n      \"column\": \"alpha_helix_content\",\n      \"properties\": {\n        \"dtype\": \"number\",\n        \"std\": 0.21273897537937292,\n        \"min\": 0.0,\n        \"max\": 0.9807692307692308,\n        \"num_unique_values\": 6455,\n        \"samples\": [\n          0.3813953488372093,\n          0.4574132492113564,\n          0.5316455696202531\n        ],\n        \"semantic_type\": \"\",\n        \"description\": \"\"\n      }\n    },\n    {\n      \"column\": \"beta_sheet_content\",\n      \"properties\": {\n        \"dtype\": \"number\",\n        \"std\": 0.13989181499309647,\n        \"min\": 0.0,\n        \"max\": 0.8161764705882353,\n        \"num_unique_values\": 5269,\n        \"samples\": [\n          0.2762430939226519,\n          0.1261770244821092,\n          0.5497835497835498\n        ],\n        \"semantic_type\": \"\",\n        \"description\": \"\"\n      }\n    },\n    {\n      \"column\": \"coil_content\",\n      \"properties\": {\n        \"dtype\": \"number\",\n        \"std\": 0.11721284195964995,\n        \"min\": 0.0192307692307692,\n        \"max\": 1.0,\n        \"num_unique_values\": 5918,\n        \"samples\": [\n          0.3127035830618892,\n          0.4037267080745341,\n          0.2469135802469135\n        ],\n        \"semantic_type\": \"\",\n        \"description\": \"\"\n      }\n    },\n    {\n      \"column\": \"hbond_density\",\n      \"properties\": {\n        \"dtype\": \"number\",\n        \"std\": 0.11004411876470091,\n        \"min\": 0.1963829425478543,\n        \"max\": 0.9050983779280528,\n        \"num_unique_values\": 8505,\n        \"samples\": [\n          0.3397506105291947,\n          0.2582834572788761,\n          0.3212955297737758\n        ],\n        \"semantic_type\": \"\",\n        \"description\": \"\"\n      }\n    }\n  ]\n}",
              "type": "dataframe",
              "variable_name": "df"
            },
            "text/html": [
              "\n",
              "  <div id=\"df-8ed4604a-840e-455d-960b-a45bbb6b0961\" class=\"colab-df-container\">\n",
              "    <div>\n",
              "<style scoped>\n",
              "    .dataframe tbody tr th:only-of-type {\n",
              "        vertical-align: middle;\n",
              "    }\n",
              "\n",
              "    .dataframe tbody tr th {\n",
              "        vertical-align: top;\n",
              "    }\n",
              "\n",
              "    .dataframe thead th {\n",
              "        text-align: right;\n",
              "    }\n",
              "</style>\n",
              "<table border=\"1\" class=\"dataframe\">\n",
              "  <thead>\n",
              "    <tr style=\"text-align: right;\">\n",
              "      <th></th>\n",
              "      <th>UniProt_ID</th>\n",
              "      <th>mean_pLDDT</th>\n",
              "      <th>alpha_helix_content</th>\n",
              "      <th>beta_sheet_content</th>\n",
              "      <th>coil_content</th>\n",
              "      <th>hbond_density</th>\n",
              "    </tr>\n",
              "  </thead>\n",
              "  <tbody>\n",
              "    <tr>\n",
              "      <th>0</th>\n",
              "      <td>A0A081HJP9</td>\n",
              "      <td>95.064723</td>\n",
              "      <td>NaN</td>\n",
              "      <td>NaN</td>\n",
              "      <td>NaN</td>\n",
              "      <td>NaN</td>\n",
              "    </tr>\n",
              "    <tr>\n",
              "      <th>1</th>\n",
              "      <td>A0A0A7HF73</td>\n",
              "      <td>93.826494</td>\n",
              "      <td>0.379167</td>\n",
              "      <td>0.341667</td>\n",
              "      <td>0.279167</td>\n",
              "      <td>0.301776</td>\n",
              "    </tr>\n",
              "    <tr>\n",
              "      <th>2</th>\n",
              "      <td>A0A0A7HF79</td>\n",
              "      <td>93.815284</td>\n",
              "      <td>0.290698</td>\n",
              "      <td>0.299419</td>\n",
              "      <td>0.409884</td>\n",
              "      <td>0.330532</td>\n",
              "    </tr>\n",
              "    <tr>\n",
              "      <th>3</th>\n",
              "      <td>A0A0A7HFE1</td>\n",
              "      <td>89.906073</td>\n",
              "      <td>0.536716</td>\n",
              "      <td>0.140187</td>\n",
              "      <td>0.323097</td>\n",
              "      <td>0.249902</td>\n",
              "    </tr>\n",
              "    <tr>\n",
              "      <th>4</th>\n",
              "      <td>A0A0A7HFE6</td>\n",
              "      <td>93.229352</td>\n",
              "      <td>0.586667</td>\n",
              "      <td>0.096000</td>\n",
              "      <td>0.317333</td>\n",
              "      <td>0.312187</td>\n",
              "    </tr>\n",
              "  </tbody>\n",
              "</table>\n",
              "</div>\n",
              "    <div class=\"colab-df-buttons\">\n",
              "\n",
              "  <div class=\"colab-df-container\">\n",
              "    <button class=\"colab-df-convert\" onclick=\"convertToInteractive('df-8ed4604a-840e-455d-960b-a45bbb6b0961')\"\n",
              "            title=\"Convert this dataframe to an interactive table.\"\n",
              "            style=\"display:none;\">\n",
              "\n",
              "  <svg xmlns=\"http://www.w3.org/2000/svg\" height=\"24px\" viewBox=\"0 -960 960 960\">\n",
              "    <path d=\"M120-120v-720h720v720H120Zm60-500h600v-160H180v160Zm220 220h160v-160H400v160Zm0 220h160v-160H400v160ZM180-400h160v-160H180v160Zm440 0h160v-160H620v160ZM180-180h160v-160H180v160Zm440 0h160v-160H620v160Z\"/>\n",
              "  </svg>\n",
              "    </button>\n",
              "\n",
              "  <style>\n",
              "    .colab-df-container {\n",
              "      display:flex;\n",
              "      gap: 12px;\n",
              "    }\n",
              "\n",
              "    .colab-df-convert {\n",
              "      background-color: #E8F0FE;\n",
              "      border: none;\n",
              "      border-radius: 50%;\n",
              "      cursor: pointer;\n",
              "      display: none;\n",
              "      fill: #1967D2;\n",
              "      height: 32px;\n",
              "      padding: 0 0 0 0;\n",
              "      width: 32px;\n",
              "    }\n",
              "\n",
              "    .colab-df-convert:hover {\n",
              "      background-color: #E2EBFA;\n",
              "      box-shadow: 0px 1px 2px rgba(60, 64, 67, 0.3), 0px 1px 3px 1px rgba(60, 64, 67, 0.15);\n",
              "      fill: #174EA6;\n",
              "    }\n",
              "\n",
              "    .colab-df-buttons div {\n",
              "      margin-bottom: 4px;\n",
              "    }\n",
              "\n",
              "    [theme=dark] .colab-df-convert {\n",
              "      background-color: #3B4455;\n",
              "      fill: #D2E3FC;\n",
              "    }\n",
              "\n",
              "    [theme=dark] .colab-df-convert:hover {\n",
              "      background-color: #434B5C;\n",
              "      box-shadow: 0px 1px 3px 1px rgba(0, 0, 0, 0.15);\n",
              "      filter: drop-shadow(0px 1px 2px rgba(0, 0, 0, 0.3));\n",
              "      fill: #FFFFFF;\n",
              "    }\n",
              "  </style>\n",
              "\n",
              "    <script>\n",
              "      const buttonEl =\n",
              "        document.querySelector('#df-8ed4604a-840e-455d-960b-a45bbb6b0961 button.colab-df-convert');\n",
              "      buttonEl.style.display =\n",
              "        google.colab.kernel.accessAllowed ? 'block' : 'none';\n",
              "\n",
              "      async function convertToInteractive(key) {\n",
              "        const element = document.querySelector('#df-8ed4604a-840e-455d-960b-a45bbb6b0961');\n",
              "        const dataTable =\n",
              "          await google.colab.kernel.invokeFunction('convertToInteractive',\n",
              "                                                    [key], {});\n",
              "        if (!dataTable) return;\n",
              "\n",
              "        const docLinkHtml = 'Like what you see? Visit the ' +\n",
              "          '<a target=\"_blank\" href=https://colab.research.google.com/notebooks/data_table.ipynb>data table notebook</a>'\n",
              "          + ' to learn more about interactive tables.';\n",
              "        element.innerHTML = '';\n",
              "        dataTable['output_type'] = 'display_data';\n",
              "        await google.colab.output.renderOutput(dataTable, element);\n",
              "        const docLink = document.createElement('div');\n",
              "        docLink.innerHTML = docLinkHtml;\n",
              "        element.appendChild(docLink);\n",
              "      }\n",
              "    </script>\n",
              "  </div>\n",
              "\n",
              "\n",
              "    <div id=\"df-1ab2c23e-4ec7-4609-8d4b-ef6706cb1016\">\n",
              "      <button class=\"colab-df-quickchart\" onclick=\"quickchart('df-1ab2c23e-4ec7-4609-8d4b-ef6706cb1016')\"\n",
              "                title=\"Suggest charts\"\n",
              "                style=\"display:none;\">\n",
              "\n",
              "<svg xmlns=\"http://www.w3.org/2000/svg\" height=\"24px\"viewBox=\"0 0 24 24\"\n",
              "     width=\"24px\">\n",
              "    <g>\n",
              "        <path d=\"M19 3H5c-1.1 0-2 .9-2 2v14c0 1.1.9 2 2 2h14c1.1 0 2-.9 2-2V5c0-1.1-.9-2-2-2zM9 17H7v-7h2v7zm4 0h-2V7h2v10zm4 0h-2v-4h2v4z\"/>\n",
              "    </g>\n",
              "</svg>\n",
              "      </button>\n",
              "\n",
              "<style>\n",
              "  .colab-df-quickchart {\n",
              "      --bg-color: #E8F0FE;\n",
              "      --fill-color: #1967D2;\n",
              "      --hover-bg-color: #E2EBFA;\n",
              "      --hover-fill-color: #174EA6;\n",
              "      --disabled-fill-color: #AAA;\n",
              "      --disabled-bg-color: #DDD;\n",
              "  }\n",
              "\n",
              "  [theme=dark] .colab-df-quickchart {\n",
              "      --bg-color: #3B4455;\n",
              "      --fill-color: #D2E3FC;\n",
              "      --hover-bg-color: #434B5C;\n",
              "      --hover-fill-color: #FFFFFF;\n",
              "      --disabled-bg-color: #3B4455;\n",
              "      --disabled-fill-color: #666;\n",
              "  }\n",
              "\n",
              "  .colab-df-quickchart {\n",
              "    background-color: var(--bg-color);\n",
              "    border: none;\n",
              "    border-radius: 50%;\n",
              "    cursor: pointer;\n",
              "    display: none;\n",
              "    fill: var(--fill-color);\n",
              "    height: 32px;\n",
              "    padding: 0;\n",
              "    width: 32px;\n",
              "  }\n",
              "\n",
              "  .colab-df-quickchart:hover {\n",
              "    background-color: var(--hover-bg-color);\n",
              "    box-shadow: 0 1px 2px rgba(60, 64, 67, 0.3), 0 1px 3px 1px rgba(60, 64, 67, 0.15);\n",
              "    fill: var(--button-hover-fill-color);\n",
              "  }\n",
              "\n",
              "  .colab-df-quickchart-complete:disabled,\n",
              "  .colab-df-quickchart-complete:disabled:hover {\n",
              "    background-color: var(--disabled-bg-color);\n",
              "    fill: var(--disabled-fill-color);\n",
              "    box-shadow: none;\n",
              "  }\n",
              "\n",
              "  .colab-df-spinner {\n",
              "    border: 2px solid var(--fill-color);\n",
              "    border-color: transparent;\n",
              "    border-bottom-color: var(--fill-color);\n",
              "    animation:\n",
              "      spin 1s steps(1) infinite;\n",
              "  }\n",
              "\n",
              "  @keyframes spin {\n",
              "    0% {\n",
              "      border-color: transparent;\n",
              "      border-bottom-color: var(--fill-color);\n",
              "      border-left-color: var(--fill-color);\n",
              "    }\n",
              "    20% {\n",
              "      border-color: transparent;\n",
              "      border-left-color: var(--fill-color);\n",
              "      border-top-color: var(--fill-color);\n",
              "    }\n",
              "    30% {\n",
              "      border-color: transparent;\n",
              "      border-left-color: var(--fill-color);\n",
              "      border-top-color: var(--fill-color);\n",
              "      border-right-color: var(--fill-color);\n",
              "    }\n",
              "    40% {\n",
              "      border-color: transparent;\n",
              "      border-right-color: var(--fill-color);\n",
              "      border-top-color: var(--fill-color);\n",
              "    }\n",
              "    60% {\n",
              "      border-color: transparent;\n",
              "      border-right-color: var(--fill-color);\n",
              "    }\n",
              "    80% {\n",
              "      border-color: transparent;\n",
              "      border-right-color: var(--fill-color);\n",
              "      border-bottom-color: var(--fill-color);\n",
              "    }\n",
              "    90% {\n",
              "      border-color: transparent;\n",
              "      border-bottom-color: var(--fill-color);\n",
              "    }\n",
              "  }\n",
              "</style>\n",
              "\n",
              "      <script>\n",
              "        async function quickchart(key) {\n",
              "          const quickchartButtonEl =\n",
              "            document.querySelector('#' + key + ' button');\n",
              "          quickchartButtonEl.disabled = true;  // To prevent multiple clicks.\n",
              "          quickchartButtonEl.classList.add('colab-df-spinner');\n",
              "          try {\n",
              "            const charts = await google.colab.kernel.invokeFunction(\n",
              "                'suggestCharts', [key], {});\n",
              "          } catch (error) {\n",
              "            console.error('Error during call to suggestCharts:', error);\n",
              "          }\n",
              "          quickchartButtonEl.classList.remove('colab-df-spinner');\n",
              "          quickchartButtonEl.classList.add('colab-df-quickchart-complete');\n",
              "        }\n",
              "        (() => {\n",
              "          let quickchartButtonEl =\n",
              "            document.querySelector('#df-1ab2c23e-4ec7-4609-8d4b-ef6706cb1016 button');\n",
              "          quickchartButtonEl.style.display =\n",
              "            google.colab.kernel.accessAllowed ? 'block' : 'none';\n",
              "        })();\n",
              "      </script>\n",
              "    </div>\n",
              "\n",
              "    </div>\n",
              "  </div>\n"
            ],
            "text/plain": [
              "   UniProt_ID  mean_pLDDT  alpha_helix_content  beta_sheet_content  \\\n",
              "0  A0A081HJP9   95.064723                  NaN                 NaN   \n",
              "1  A0A0A7HF73   93.826494             0.379167            0.341667   \n",
              "2  A0A0A7HF79   93.815284             0.290698            0.299419   \n",
              "3  A0A0A7HFE1   89.906073             0.536716            0.140187   \n",
              "4  A0A0A7HFE6   93.229352             0.586667            0.096000   \n",
              "\n",
              "   coil_content  hbond_density  \n",
              "0           NaN            NaN  \n",
              "1      0.279167       0.301776  \n",
              "2      0.409884       0.330532  \n",
              "3      0.323097       0.249902  \n",
              "4      0.317333       0.312187  "
            ]
          },
          "execution_count": 95,
          "metadata": {},
          "output_type": "execute_result"
        }
      ],
      "source": [
        "import pandas as pd\n",
        "\n",
        "csv_path = \"/content/drive/MyDrive/NonVirulent_AlphaFold_PDBs/structure_features_extracted_clean.csv\"\n",
        "df = pd.read_csv(csv_path)\n",
        "df.head()\n"
      ]
    },
    {
      "cell_type": "code",
      "execution_count": 97,
      "metadata": {
        "colab": {
          "base_uri": "https://localhost:8080/",
          "height": 556
        },
        "id": "H1feL68VUGqp",
        "outputId": "03b8b4a7-12b8-4b85-ac3d-6bf43e1e72c4"
      },
      "outputs": [
        {
          "name": "stdout",
          "output_type": "stream",
          "text": [
            "Original shape: (8514, 6)\n",
            "After dropping NaNs: (8505, 6)\n"
          ]
        },
        {
          "data": {
            "image/png": "[encoded data removed]",
            "text/plain": [
              "<Figure size 2000x1000 with 5 Axes>"
            ]
          },
          "metadata": {},
          "output_type": "display_data"
        }
      ],
      "source": [
        "import pandas as pd\n",
        "import matplotlib.pyplot as plt\n",
        "\n",
        "# load the extracted features\n",
        "csv_path = \"/content/drive/MyDrive/NonVirulent_AlphaFold_PDBs/structure_features_extracted_clean.csv\"\n",
        "df = pd.read_csv(csv_path)\n",
        "\n",
        "print(f\"Original shape: {df.shape}\")\n",
        "\n",
        "# remove nan\n",
        "df_clean = df.dropna()\n",
        "\n",
        "print(f\"After dropping NaNs: {df_clean.shape}\")\n",
        "\n",
        "#plot features\n",
        "features_to_plot = [\"mean_pLDDT\", \"alpha_helix_content\", \"beta_sheet_content\", \"coil_content\", \"hbond_density\"]\n",
        "\n",
        "plt.figure(figsize=(20, 10))\n",
        "\n",
        "for idx, feature in enumerate(features_to_plot, 1):\n",
        "    plt.subplot(2, 3, idx)\n",
        "    plt.hist(df_clean[feature], bins=30, edgecolor='black')\n",
        "    plt.title(f'{feature}', fontsize=14)\n",
        "    plt.xlabel('Value')\n",
        "    plt.ylabel('Frequency')\n",
        "\n",
        "plt.tight_layout()\n",
        "plt.show()\n"
      ]
    },
    {
      "cell_type": "code",
      "execution_count": 98,
      "metadata": {
        "colab": {
          "base_uri": "https://localhost:8080/"
        },
        "id": "5mGHS_vwUGvR",
        "outputId": "cbb1eed6-be96-409a-a51b-f774d81610a2"
      },
      "outputs": [
        {
          "name": "stdout",
          "output_type": "stream",
          "text": [
            "✅ Cleaned CSV saved to /content/drive/MyDrive/NonVirulent_AlphaFold_PDBs/structure_features_extracted_clean_noNA.csv\n"
          ]
        }
      ],
      "source": [
        "# Save the cleaned DataFrame\n",
        "clean_csv_path = \"/content/drive/MyDrive/NonVirulent_AlphaFold_PDBs/structure_features_extracted_clean_noNA.csv\"\n",
        "df_clean.to_csv(clean_csv_path, index=False)\n",
        "\n",
        "print(f\"✅ Cleaned CSV saved to {clean_csv_path}\")"
      ]
    }
  ],
  "metadata": {
    "colab": {
      "machine_shape": "hm",
      "name": "Making the Most of your Colab Subscription",
      "provenance": []
    },
    "kernelspec": {
      "display_name": "Python 3",
      "name": "python3"
    }
  },
  "nbformat": 4,
  "nbformat_minor": 0
}
