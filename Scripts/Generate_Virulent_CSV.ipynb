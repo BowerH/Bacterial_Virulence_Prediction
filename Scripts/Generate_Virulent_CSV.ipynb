{
  "cells": [
    {
      "cell_type": "code",
      "execution_count": 4,
      "metadata": {
        "colab": {
          "base_uri": "https://localhost:8080/"
        },
        "id": "OCGMP_wF3tlI",
        "outputId": "cc408a16-aa29-4291-e2d0-bfa453b4e3a9"
      },
      "outputs": [
        {
          "name": "stdout",
          "output_type": "stream",
          "text": [
            "Mounted at /content/drive\n"
          ]
        }
      ],
      "source": [
        "from google.colab import drive\n",
        "drive.mount('/content/drive')"
      ]
    },
    {
      "cell_type": "code",
      "execution_count": 4,
      "metadata": {
        "colab": {
          "base_uri": "https://localhost:8080/"
        },
        "id": "wCoWynqt3uwD",
        "outputId": "fdbd6d32-46df-4c80-e631-fe85b891c62c"
      },
      "outputs": [
        {
          "name": "stdout",
          "output_type": "stream",
          "text": [
            "Downloading VFDB Set B (Full) into: /content/drive/MyDrive/VFDB_Downloads/VFDB_setB_pro.fas.gz\n",
            "✅ Downloaded /content/drive/MyDrive/VFDB_Downloads/VFDB_setB_pro.fas.gz\n"
          ]
        }
      ],
      "source": [
        "import os\n",
        "import requests\n",
        "\n",
        "\n",
        "# Set Download Path\n",
        "vfdb_setB_url = \"http://www.mgc.ac.cn/VFs/Down/VFDB_setB_pro.fas.gz\"\n",
        "drive_folder = \"/content/drive/MyDrive/VFDB_Downloads\"\n",
        "local_filename = os.path.join(drive_folder, \"VFDB_setB_pro.fas.gz\")\n",
        "\n",
        "# Create the folder if it doesn't exist\n",
        "os.makedirs(drive_folder, exist_ok=True)\n",
        "\n",
        "# Download if not already exists\n",
        "if not os.path.exists(local_filename):\n",
        "    print(f\"Downloading VFDB Set B (Full) into: {local_filename}\")\n",
        "    response = requests.get(vfdb_setB_url)\n",
        "    with open(local_filename, 'wb') as f:\n",
        "        f.write(response.content)\n",
        "    print(f\"Downloaded {local_filename}\")\n",
        "else:\n",
        "    print(f\"File already exists: {local_filename}\")\n"
      ]
    },
    {
      "cell_type": "code",
      "execution_count": 13,
      "metadata": {
        "colab": {
          "base_uri": "https://localhost:8080/"
        },
        "id": "5RkbdzGZ_zAv",
        "outputId": "0804921f-84ce-4b39-ebe8-039d93616838"
      },
      "outputs": [
        {
          "name": "stdout",
          "output_type": "stream",
          "text": [
            "Parsing /content/drive/MyDrive/VFDB_Downloads/VFDB_setB_pro.fas.gz for RefSeq IDs...\n",
            "✅ Saved 25141 RefSeq IDs.\n"
          ]
        }
      ],
      "source": [
        "import gzip\n",
        "import os\n",
        "import re\n",
        "import pandas as pd\n",
        "\n",
        "# 1. Define path\n",
        "vfdb_setB_path = \"/content/drive/MyDrive/VFDB_Downloads/VFDB_setB_pro.fas.gz\"\n",
        "\n",
        "# 2. Extract RefSeq IDs\n",
        "refseq_ids = []\n",
        "\n",
        "print(f\"Parsing {vfdb_setB_path} for RefSeq IDs...\")\n",
        "\n",
        "with gzip.open(vfdb_setB_path, 'rt') as f:\n",
        "    for line in f:\n",
        "        if line.startswith('>'):\n",
        "            header = line.strip()\n",
        "            match_refseq = re.search(r'\\b(WP_[0-9\\.]+)\\b', header)\n",
        "            if match_refseq:\n",
        "                refseq_ids.append(match_refseq.group(1))\n",
        "\n",
        "# 3. Save RefSeq IDs\n",
        "output_dir = \"/content/drive/MyDrive/VFDB_Downloads/VFDB_Extracted_IDs\"\n",
        "os.makedirs(output_dir, exist_ok=True)\n",
        "\n",
        "if refseq_ids:\n",
        "    refseq_df = pd.DataFrame(sorted(set(refseq_ids)), columns=[\"RefSeq_ID\"])\n",
        "    refseq_df.to_csv(os.path.join(output_dir, \"vfdb_all_refseq_ids.csv\"), index=False)\n",
        "    print(f\"Saved {len(set(refseq_ids))} RefSeq IDs.\")\n",
        "else:\n",
        "    print(\"No RefSeq IDs found.\")\n"
      ]
    },
    {
      "cell_type": "code",
      "execution_count": 15,
      "metadata": {
        "colab": {
          "base_uri": "https://localhost:8080/"
        },
        "id": "q3UlEabE_zET",
        "outputId": "1c7f02ee-41f8-4908-b533-d2379b818bdd"
      },
      "outputs": [
        {
          "name": "stdout",
          "output_type": "stream",
          "text": [
            "      RefSeq_ID\n",
            "0  WP_000004104\n",
            "1  WP_000004827\n",
            "2  WP_000004851\n",
            "3  WP_000005080\n",
            "4  WP_000006206\n",
            "Index(['RefSeq_ID'], dtype='object')\n"
          ]
        }
      ],
      "source": [
        "\n",
        "import pandas as pd\n",
        "\n",
        "df = pd.read_csv(\"/content/drive/MyDrive/VFDB_Downloads/VFDB_Extracted_IDs/vfdb_all_refseq_ids.csv\")\n",
        "print(df.head())\n",
        "print(df.columns)\n"
      ]
    },
    {
      "cell_type": "code",
      "execution_count": 30,
      "metadata": {
        "colab": {
          "base_uri": "https://localhost:8080/"
        },
        "id": "YBc1v4pmCKhT",
        "outputId": "041d8763-45e1-4ccb-a196-43023a0e6e0e"
      },
      "outputs": [
        {
          "name": "stdout",
          "output_type": "stream",
          "text": [
            "--2025-04-27 19:27:00--  https://ftp.uniprot.org/pub/databases/uniprot/current_release/knowledgebase/idmapping/idmapping_selected.tab.gz\n",
            "Resolving ftp.uniprot.org (ftp.uniprot.org)... 128.175.240.195\n",
            "Connecting to ftp.uniprot.org (ftp.uniprot.org)|128.175.240.195|:443... connected.\n",
            "HTTP request sent, awaiting response... 200 OK\n",
            "Length: 12459633576 (12G) [application/x-gzip]\n",
            "Saving to: ‘/content/idmapping_selected.tab.gz’\n",
            "\n",
            "/content/idmapping_ 100%[===================>]  11.60G   108MB/s    in 2m 4s   \n",
            "\n",
            "2025-04-27 19:29:04 (96.0 MB/s) - ‘/content/idmapping_selected.tab.gz’ saved [12459633576/12459633576]\n",
            "\n"
          ]
        }
      ],
      "source": [
        "# 1. Download UniProt mapping file\n",
        "!wget -O /content/idmapping_selected.tab.gz https://ftp.uniprot.org/pub/databases/uniprot/current_release/knowledgebase/idmapping/idmapping_selected.tab.gz\n",
        "\n",
        "# 2. Decompress\n",
        "!gunzip /content/idmapping_selected.tab.gz\n",
        "\n",
        "# 3. Suppose your RefSeq IDs are in refseq_ids.txt (one ID per line)\n",
        "!cut -d',' -f1 /content/drive/MyDrive/VFDB_Downloads/VFDB_Extracted_IDs/vfdb_all_refseq_ids.csv | tail -n +2 > /content/refseq_ids.txt\n"
      ]
    },
    {
      "cell_type": "code",
      "execution_count": 41,
      "metadata": {
        "colab": {
          "base_uri": "https://localhost:8080/"
        },
        "id": "SaqGTs2s_zJr",
        "outputId": "f00fa338-782a-4b3d-ca49-ef9cbad22e55"
      },
      "outputs": [
        {
          "name": "stdout",
          "output_type": "stream",
          "text": [
            "  P19361\\t28KD_MYCLE\\t\\tNP_301189.1; WP_010907514.1\\t15826926; 499209974; 112728\\t\\t\\tUniRef100_P19361\\tUniRef90_P19361\\tUniRef50_P19361\\tUPI0000124E8E\\tA30557\\t272631\\t\\t\\t3058804; 11234002\\tM23232; AL583917\\tAAA25345.1; CAC29599.1\\t\\t\\t\\t\n",
            "0  O52956\\tA85A_MYCAV\\t75268132\\tWP_011723409.1\\t...                                                                                                                                                                                            \n",
            "1  Q05861\\tA85A_MYCLE\\t\\tNP_301195.1; WP_01090752...                                                                                                                                                                                            \n",
            "2  P58248\\tA85A_MYCUL\\t\\tWP_011742456.1\\t14330981...                                                                                                                                                                                            \n",
            "3  A1KJU9\\tA85B_MYCBP\\t\\tWP_011799226.1\\t50012322...                                                                                                                                                                                            \n",
            "4  Q49575\\tA85B_MYCIA\\t77301846\\tWP_009952996.1\\t...                                                                                                                                                                                            \n",
            "Index(['P19361\\t28KD_MYCLE\\t\\tNP_301189.1; WP_010907514.1\\t15826926; 499209974; 112728\\t\\t\\tUniRef100_P19361\\tUniRef90_P19361\\tUniRef50_P19361\\tUPI0000124E8E\\tA30557\\t272631\\t\\t\\t3058804; 11234002\\tM23232; AL583917\\tAAA25345.1; CAC29599.1\\t\\t\\t\\t'], dtype='object')\n"
          ]
        }
      ],
      "source": [
        "# Preview the CSV\n",
        "import pandas as pd\n",
        "\n",
        "df = pd.read_csv(\"/content/matched_lines.txt\")\n",
        "print(df.head())\n",
        "print(df.columns)"
      ]
    },
    {
      "cell_type": "code",
      "execution_count": 44,
      "metadata": {
        "colab": {
          "base_uri": "https://localhost:8080/"
        },
        "id": "tAXg1AuB_zMd",
        "outputId": "5e1dbbd3-71b0-434d-eaea-65c7b3cc057c"
      },
      "outputs": [
        {
          "name": "stdout",
          "output_type": "stream",
          "text": [
            "🧩 Number of columns: 1\n",
            "\n",
            "🛠 First few rows:\n",
            "              0\n",
            "0     RefSeq_ID\n",
            "1  WP_000004104\n",
            "2  WP_000004827\n",
            "3  WP_000004851\n",
            "4  WP_000005080\n"
          ]
        }
      ],
      "source": [
        "import pandas as pd\n",
        "\n",
        "raw_vfdb_path = \"/content/drive/MyDrive/VFDB_Downloads/VFDB_Extracted_IDs/vfdb_all_refseq_ids.csv\"\n",
        "raw_vfdb_df = pd.read_csv(raw_vfdb_path, sep=\"\\t\", header=None)\n",
        "\n",
        "print(\"Number of columns:\", raw_vfdb_df.shape[1])\n",
        "print(\"\\nFirst few rows:\")\n",
        "print(raw_vfdb_df.head())\n"
      ]
    },
    {
      "cell_type": "code",
      "execution_count": 45,
      "metadata": {
        "colab": {
          "base_uri": "https://localhost:8080/"
        },
        "id": "pyR9Dch__zPu",
        "outputId": "566c47a0-f1d5-4f58-df52-69f25aadc0fe"
      },
      "outputs": [
        {
          "name": "stdout",
          "output_type": "stream",
          "text": [
            "✅ Found 25141 RefSeq IDs.\n",
            "✅ Saved clean RefSeq IDs to /content/refseq_ids.txt\n"
          ]
        }
      ],
      "source": [
        "import pandas as pd\n",
        "\n",
        "# 1. Load the VFDB RefSeq IDs file (skip header automatically)\n",
        "raw_vfdb_path = \"/content/drive/MyDrive/VFDB_Downloads/VFDB_Extracted_IDs/vfdb_all_refseq_ids.csv\"\n",
        "vfdb_refseq_df = pd.read_csv(raw_vfdb_path)\n",
        "\n",
        "# 2. Extract unique RefSeq IDs (excluding NaNs)\n",
        "refseq_ids = vfdb_refseq_df[\"RefSeq_ID\"].dropna().unique().tolist()\n",
        "\n",
        "print(f\"Found {len(refseq_ids)} RefSeq IDs.\")\n",
        "\n",
        "# 3. Save clean RefSeq IDs to a file \n",
        "with open(\"/content/refseq_ids.txt\", \"w\") as f:\n",
        "    for refseq_id in refseq_ids:\n",
        "        f.write(refseq_id.strip() + \"\\n\")\n",
        "\n",
        "print(\"Saved clean RefSeq IDs to /content/refseq_ids.txt\")\n"
      ]
    },
    {
      "cell_type": "code",
      "execution_count": 46,
      "metadata": {
        "id": "PRXYR48R28mX"
      },
      "outputs": [],
      "source": [
        "!grep -Ff /content/refseq_ids.txt /content/idmapping_selected.tab > /content/matched_lines.txt\n"
      ]
    },
    {
      "cell_type": "code",
      "execution_count": 47,
      "metadata": {
        "colab": {
          "base_uri": "https://localhost:8080/"
        },
        "id": "i1g9SklK28pH",
        "outputId": "f4ac42bf-2943-4c22-e689-abd628e8a5cc"
      },
      "outputs": [
        {
          "name": "stderr",
          "output_type": "stream",
          "text": [
            "<ipython-input-47-2b93d7533ca7>:2: DtypeWarning: Columns (21) have mixed types. Specify dtype option on import or set low_memory=False.\n",
            "  matched_df = pd.read_csv(\"/content/matched_lines.txt\", sep=\"\\t\", header=None, names=[\"UniProtKB_AC\", \"Database\", \"RefSeq_ID\"])\n"
          ]
        },
        {
          "name": "stdout",
          "output_type": "stream",
          "text": [
            "✅ Mapping complete! Saved to /content/drive/MyDrive/VFDB_Downloads/VFDB_Extracted_IDs/vfdb_mapped_uniprot_ids.csv\n"
          ]
        }
      ],
      "source": [
        "\n",
        "# Load the matched lines\n",
        "matched_df = pd.read_csv(\"/content/matched_lines.txt\", sep=\"\\t\", header=None, names=[\"UniProtKB_AC\", \"Database\", \"RefSeq_ID\"])\n",
        "\n",
        "# Filter only RefSeq mappings\n",
        "matched_df = matched_df[matched_df[\"Database\"] == \"RefSeq\"]\n",
        "\n",
        "# Save the clean mapping\n",
        "output_csv = \"/content/drive/MyDrive/VFDB_Downloads/VFDB_Extracted_IDs/vfdb_mapped_uniprot_ids.csv\"\n",
        "matched_df[[\"RefSeq_ID\", \"UniProtKB_AC\"]].drop_duplicates().to_csv(output_csv, index=False)\n",
        "\n",
        "print(f\"✅ Mapping complete! Saved to {output_csv}\")\n"
      ]
    },
    {
      "cell_type": "code",
      "execution_count": 50,
      "metadata": {
        "colab": {
          "base_uri": "https://localhost:8080/"
        },
        "id": "l3mKd68R28sG",
        "outputId": "2bb852a6-e20a-4248-e0d0-8f9da6906e53"
      },
      "outputs": [
        {
          "name": "stdout",
          "output_type": "stream",
          "text": [
            "WP_000004104\n",
            "WP_000004827\n",
            "WP_000004851\n",
            "WP_000005080\n",
            "WP_000006206\n",
            "WP_000006207\n",
            "WP_000006208\n",
            "WP_000006209\n",
            "WP_000006211\n",
            "WP_000006213\n"
          ]
        }
      ],
      "source": [
        "!head /content/refseq_ids.txt\n"
      ]
    },
    {
      "cell_type": "code",
      "execution_count": 53,
      "metadata": {
        "colab": {
          "base_uri": "https://localhost:8080/"
        },
        "id": "s9Uq3s-X28v6",
        "outputId": "93d30250-30ab-4eed-e737-95396881b731"
      },
      "outputs": [
        {
          "name": "stdout",
          "output_type": "stream",
          "text": [
            "P19361\t28KD_MYCLE\t\tNP_301189.1; WP_010907514.1\t15826926; 499209974; 112728\t\t\tUniRef100_P19361\tUniRef90_P19361\tUniRef50_P19361\tUPI0000124E8E\tA30557\t272631\t\t\t3058804; 11234002\tM23232; AL583917\tAAA25345.1; CAC29599.1\t\t\t\t\n",
            "O52956\tA85A_MYCAV\t75268132\tWP_011723409.1\t13431272; 500042691\t\tGO:0005737; GO:0005576; GO:0004144; GO:0050348\tUniRef100_O52956\tUniRef90_O52956\tUniRef50_P9WQN9\tUPI0000125055\t\t1764\t\t\t9284137\tD78144\tBAA24156.1\t\t\t\t\n",
            "Q05861\tA85A_MYCLE\t\tNP_301195.1; WP_010907520.1\t287920; 499209980; 15826932; 603806; 2506968\t\tGO:0005737; GO:0005576; GO:0004144; GO:0050348\tUniRef100_Q05861\tUniRef90_Q05861\tUniRef50_P9WQN9\tUPI0000125057\tA86921; S32107\t272631\t\t\t7829901; 11234002; 8359887\tD43841; M90648; AL583917; Z21950\tBAA07864.1; AAA91864.1; CAC29605.1; CAA79948.1\t\t\t\t\n",
            "P58248\tA85A_MYCUL\t\tWP_011742456.1\t14330981; 18202281; 500062539\t\tGO:0005737; GO:0005576; GO:0004144; GO:0050348\tUniRef100_P58248\tUniRef90_P58248\tUniRef50_P9WQN9\tUPI0000125059\t\t1809\t\t\t\tAJ300576\tCAC40861.1\t\t\t\t\n",
            "A1KJU9\tA85B_MYCBP\t\tWP_011799226.1\t500123221; 146286022; 121493437\t\tGO:0005576; GO:0004144; GO:0050348\tUniRef100_A1KJU9\tUniRef90_P9WQP1\tUniRef50_P9WQN9\tUPI000016F90E\tS29663\t410289\t\t\t7987013; 17372194\tX62397; AM408590\tCAA44268.1; CAL71910.1\t\t\t\t7722319; 17387166; 19930045\n",
            "Q49575\tA85B_MYCIA\t77301846\tWP_009952996.1\t13431278; 391358123; 497638812; 1785854; 456301; 378799718\t\tGO:0005576; GO:0004144; GO:0050348\tUniRef100_Q49575\tUniRef90_Q49575\tUniRef50_P9WQN9\tUPI0001B45978\tJN0897\t487521\t\t\t8250904; 22535933\tD16546; D14253; CP003322\tBAA03981.1; BAA03243.1; AFC43854.1\t\t\t\t\n",
            "P31951\tA85B_MYCLE\t\tNP_302359.1; WP_010908679.1\t13432107; 15828096; 44381; 499211139\t\tGO:0005576; GO:0004144; GO:0050348\tUniRef100_P31951\tUniRef90_P31951\tUniRef50_P9WQN9\tUPI000012505E\tG87162; S20038; S34434\t272631\t\t\t1945858; 11234002\tX60934; AL049571; AL583924\tCAA43269.1; CAB40285.1; CAC30983.1\t\t\t\t\n",
            "A0QU51\tA85B_MYCS2\t\tWP_003893447.1; YP_886439.1\t118174996; 399231011; 449061777; 698940527; 489990390; 118473709\t\tGO:0005576; GO:0004144; GO:0050348\tUniRef100_A0QU51\tUniRef90_A0QU51\tUniRef50_P9WQN9\tUPI0000E85181\t\t246196\t\t\t17295914; 18955433; 22610443\tCP000480; CP001663\tABK75892.1; AFP38504.1\t\t\t\t\n",
            "Q05862\tA85C_MYCLE\t\tNP_302695.1; WP_010909014.1\t15828432; 499211474; 461444\t\tGO:0005576; GO:0004144; GO:0050348\tUniRef100_Q05862\tUniRef90_Q05862\tUniRef50_P9WQN9\tUPI0000125061\tS32114\t272631\t\t\t8359887; 11234002\tZ21951; M90649; AL583926\tCAA79949.1; AAA91865.1; CAC32187.1\t\t\t\t\n",
            "Q7TZA8\tACEA2_MYCBO\t\tNP_855601.1; WP_003409584.1\t489504700; 31793108; 81573431\t\tGO:0004451; GO:0046872; GO:0006097; GO:0006099\tUniRef100_Q7TZA8\tUniRef90_Q7TZA8\tUniRef50_Q7TZA8\tUPI00001A9075\t\t233413\t\t\t12788972; 28385856\tLT708304\tSIU00553.1\t\t\t\t\n"
          ]
        }
      ],
      "source": [
        "!head matched_lines.txt\n"
      ]
    },
    {
      "cell_type": "code",
      "execution_count": 54,
      "metadata": {
        "colab": {
          "base_uri": "https://localhost:8080/"
        },
        "id": "3T_Pyqf028yU",
        "outputId": "15c1533a-a709-434b-afb7-ea8e536787e0"
      },
      "outputs": [
        {
          "name": "stderr",
          "output_type": "stream",
          "text": [
            "<ipython-input-54-d90bb1d5dec0>:4: DtypeWarning: Columns (21) have mixed types. Specify dtype option on import or set low_memory=False.\n",
            "  matched_df = pd.read_csv(\"/content/matched_lines.txt\", sep=\"\\t\", header=None)\n"
          ]
        },
        {
          "name": "stdout",
          "output_type": "stream",
          "text": [
            "✅ Matched lines loaded. Columns: 22\n",
            "✅ Extracted 44202 RefSeq-UniProt mappings.\n",
            "✅ Unique UniProt IDs: 41999\n",
            "\n",
            "🧩 First 10 UniProt IDs:\n",
            "['A0AAD0P5P7', 'J9WIJ3', 'Q1RFV9', 'A0A5I0THM4', 'Q92D47', 'A0A0F7X4Q0', 'A0AAX1J088', 'A6V847', 'Q5XMK7', 'A0A5U4ZX51']\n"
          ]
        }
      ],
      "source": [
        "import pandas as pd\n",
        "\n",
        "# Load the matched lines (they are tab-separated, many fields)\n",
        "matched_df = pd.read_csv(\"/content/matched_lines.txt\", sep=\"\\t\", header=None)\n",
        "\n",
        "print(f\"✅ Matched lines loaded. Columns: {matched_df.shape[1]}\")\n",
        "\n",
        "# Column 0 = UniProtKB AC\n",
        "# Column 3 = RefSeq IDs (sometimes multiple, separated by ';')\n",
        "\n",
        "uniprot_ids = []\n",
        "refseq_to_uniprot = []\n",
        "\n",
        "for idx, row in matched_df.iterrows():\n",
        "    uniprot_ac = row[0]\n",
        "    refseq_field = row[3] if len(row) > 3 else None\n",
        "\n",
        "    if pd.notna(refseq_field):\n",
        "        refseq_ids = [rid.strip() for rid in str(refseq_field).split(\";\")]\n",
        "        for refseq_id in refseq_ids:\n",
        "            if refseq_id.startswith((\"WP_\", \"NP_\")):\n",
        "                refseq_to_uniprot.append({\"RefSeq_ID\": refseq_id, \"UniProtKB_AC\": uniprot_ac})\n",
        "                uniprot_ids.append(uniprot_ac)\n",
        "\n",
        "# Save the clean mapping\n",
        "output_csv = \"/content/drive/MyDrive/VFDB_Downloads/VFDB_Extracted_IDs/vfdb_mapped_uniprot_ids.csv\"\n",
        "mapping_df = pd.DataFrame(refseq_to_uniprot).drop_duplicates()\n",
        "mapping_df.to_csv(output_csv, index=False)\n",
        "\n",
        "print(f\"Extracted {len(mapping_df)} RefSeq-UniProt mappings.\")\n",
        "print(f\"Unique UniProt IDs: {len(set(uniprot_ids))}\")\n",
        "\n",
        "# Print first 10 UniProt IDs\n",
        "print(\"\\n🧩 First 10 UniProt IDs:\")\n",
        "print(list(set(uniprot_ids))[:10])\n"
      ]
    },
    {
      "cell_type": "code",
      "execution_count": 56,
      "metadata": {
        "colab": {
          "base_uri": "https://localhost:8080/"
        },
        "id": "9qh0-Jvo281D",
        "outputId": "30ce3dfe-4501-4be4-dbd2-e95798287eeb"
      },
      "outputs": [
        {
          "name": "stdout",
          "output_type": "stream",
          "text": [
            "✅ Found 41999 UniProt IDs to download.\n",
            "🚀 Starting parallel downloads with 20 workers...\n"
          ]
        },
        {
          "name": "stderr",
          "output_type": "stream",
          "text": [
            "Downloading AlphaFold2 PDBs (fast): 100%|██████████| 41999/41999 [15:58<00:00, 43.80it/s]\n"
          ]
        },
        {
          "name": "stdout",
          "output_type": "stream",
          "text": [
            "\n",
            "✅ Download complete! Summary saved at /content/drive/MyDrive/VFDB_Downloads/VFDB_PDBs/download_summary.csv\n",
            "\n",
            "📋 Download Summary:\n",
            "Status\n",
            "Downloaded        30648\n",
            "Not found          8340\n",
            "Already exists     3011\n",
            "Name: count, dtype: int64\n"
          ]
        }
      ],
      "source": [
        "import os\n",
        "import pandas as pd\n",
        "import requests\n",
        "from tqdm import tqdm\n",
        "from concurrent.futures import ThreadPoolExecutor, as_completed\n",
        "\n",
        "# 1. Load the clean UniProt IDs\n",
        "mapping_df = pd.read_csv(\"/content/drive/MyDrive/VFDB_Downloads/VFDB_Extracted_IDs/vfdb_mapped_uniprot_ids.csv\")\n",
        "uniprot_ids = mapping_df[\"UniProtKB_AC\"].dropna().unique().tolist()\n",
        "\n",
        "print(f\"Found {len(uniprot_ids)} UniProt IDs to download.\")\n",
        "\n",
        "# 2. Set output folder\n",
        "output_folder = \"/content/drive/MyDrive/VFDB_Downloads/VFDB_PDBs\"\n",
        "os.makedirs(output_folder, exist_ok=True)\n",
        "\n",
        "# 3. Define download function\n",
        "def download_alphafold_pdb(uniprot_id):\n",
        "    url = f\"https://alphafold.ebi.ac.uk/files/AF-{uniprot_id}-F1-model_v4.pdb\"\n",
        "    output_path = os.path.join(output_folder, f\"{uniprot_id}.pdb\")\n",
        "\n",
        "    if os.path.exists(output_path):\n",
        "        return {\"UniProt_ID\": uniprot_id, \"Status\": \"Already exists\"}\n",
        "\n",
        "    try:\n",
        "        response = requests.get(url, timeout=30)\n",
        "        if response.status_code == 200:\n",
        "            with open(output_path, \"wb\") as f:\n",
        "                f.write(response.content)\n",
        "            return {\"UniProt_ID\": uniprot_id, \"Status\": \"Downloaded\"}\n",
        "        else:\n",
        "            return {\"UniProt_ID\": uniprot_id, \"Status\": \"Not found\"}\n",
        "    except Exception as e:\n",
        "        return {\"UniProt_ID\": uniprot_id, \"Status\": f\"Error: {e}\"}\n",
        "\n",
        "# 4. Multi-threaded download\n",
        "download_summary = []\n",
        "\n",
        "max_workers = 8\n",
        "\n",
        "print(f\"🚀 Starting parallel downloads with {max_workers} workers...\")\n",
        "\n",
        "with ThreadPoolExecutor(max_workers=max_workers) as executor:\n",
        "    futures = {executor.submit(download_alphafold_pdb, uid): uid for uid in uniprot_ids}\n",
        "\n",
        "    for future in tqdm(as_completed(futures), total=len(futures), desc=\"Downloading AlphaFold2 PDBs (fast)\"):\n",
        "        result = future.result()\n",
        "        download_summary.append(result)\n",
        "\n",
        "# 5. Save download summary\n",
        "summary_df = pd.DataFrame(download_summary)\n",
        "summary_csv = os.path.join(output_folder, \"download_summary.csv\")\n",
        "summary_df.to_csv(summary_csv, index=False)\n",
        "\n",
        "print(f\"\\nDownload complete! Summary saved at {summary_csv}\")\n",
        "\n",
        "# 6. Print download stats\n",
        "print(\"\\nDownload Summary:\")\n",
        "if not summary_df.empty:\n",
        "    print(summary_df['Status'].value_counts())\n",
        "else:\n",
        "    print(\"No downloads attempted — check UniProt ID list!\")\n"
      ]
    },
    {
      "cell_type": "code",
      "execution_count": 2,
      "metadata": {
        "colab": {
          "base_uri": "https://localhost:8080/"
        },
        "id": "iIbCl4_KF3Yl",
        "outputId": "0732b568-0031-477e-b799-52782f84f70b"
      },
      "outputs": [
        {
          "name": "stdout",
          "output_type": "stream",
          "text": [
            "Collecting biopython\n",
            "  Downloading biopython-1.85-cp311-cp311-manylinux_2_17_x86_64.manylinux2014_x86_64.whl.metadata (13 kB)\n",
            "Requirement already satisfied: numpy in /usr/local/lib/python3.11/dist-packages (from biopython) (2.0.2)\n",
            "Downloading biopython-1.85-cp311-cp311-manylinux_2_17_x86_64.manylinux2014_x86_64.whl (3.3 MB)\n",
            "\u001b[2K   \u001b[90m━━━━━━━━━━━━━━━━━━━━━━━━━━━━━━━━━━━━━━━━\u001b[0m \u001b[32m3.3/3.3 MB\u001b[0m \u001b[31m30.7 MB/s\u001b[0m eta \u001b[36m0:00:00\u001b[0m\n",
            "\u001b[?25hInstalling collected packages: biopython\n",
            "Successfully installed biopython-1.85\n"
          ]
        }
      ],
      "source": [
        "!pip install biopython"
      ]
    },
    {
      "cell_type": "code",
      "execution_count": null,
      "metadata": {
        "colab": {
          "base_uri": "https://localhost:8080/"
        },
        "id": "cJ3roL2JApAY",
        "outputId": "6678c97a-352a-48f3-f2eb-1185eb0f769e"
      },
      "outputs": [
        {
          "name": "stdout",
          "output_type": "stream",
          "text": [
            "✅ Found 33659 PDB files.\n",
            "🚀 Starting smarter DSSP feature extraction with 12 workers... (Buffered partial saves)\n"
          ]
        },
        {
          "name": "stderr",
          "output_type": "stream",
          "text": [
            "Extracting Features (Buffered Save Mode):   1%|          | 369/33659 [01:11<1:47:21,  5.17it/s]\n"
          ]
        }
      ],
      "source": [
        "import os\n",
        "import pandas as pd\n",
        "import numpy as np\n",
        "from Bio.PDB import PDBParser, DSSP\n",
        "from tqdm import tqdm\n",
        "from concurrent.futures import ProcessPoolExecutor, as_completed\n",
        "\n",
        "# 1. Paths\n",
        "pdb_folder = \"/content/drive/MyDrive/VFDB_Downloads/VFDB_PDBs\"\n",
        "output_csv = \"/content/drive/MyDrive/VFDB_Downloads/VFDB_PDBs/structure_features_extracted_clean.csv\"\n",
        "\n",
        "parser = PDBParser(QUIET=True)\n",
        "\n",
        "# 2. Feature extraction function\n",
        "def extract_features_optimized(pdb_path):\n",
        "    features = {\n",
        "        \"UniProt_ID\": os.path.basename(pdb_path).split(\".\")[0],\n",
        "        \"mean_pLDDT\": np.nan,\n",
        "        \"alpha_helix_content\": np.nan,\n",
        "        \"beta_sheet_content\": np.nan,\n",
        "        \"coil_content\": np.nan,\n",
        "        \"hbond_density\": np.nan\n",
        "    }\n",
        "    try:\n",
        "        structure = parser.get_structure(\"model\", pdb_path)\n",
        "        model = structure[0]\n",
        "\n",
        "        # Mean pLDDT\n",
        "        b_factors = [atom.get_bfactor() for atom in model.get_atoms()]\n",
        "        if b_factors:\n",
        "            features[\"mean_pLDDT\"] = np.mean(b_factors)\n",
        "\n",
        "        # DSSP \n",
        "        dssp = DSSP(model, pdb_path, acc_array='Wilke')\n",
        "\n",
        "        ss_counts = {\"H\":0, \"B\":0, \"E\":0, \"G\":0, \"I\":0, \"T\":0, \"S\":0, \"-\":0}\n",
        "        hbonds = []\n",
        "\n",
        "        for key in dssp.keys():\n",
        "            ss = dssp[key][2]\n",
        "            if ss in ss_counts:\n",
        "                ss_counts[ss] += 1\n",
        "            hbonds.append(dssp[key][3])\n",
        "\n",
        "        total = sum(ss_counts.values())\n",
        "        if total > 0:\n",
        "            helix_types = ss_counts[\"H\"] + ss_counts[\"G\"] + ss_counts[\"I\"]\n",
        "            sheet_types = ss_counts[\"E\"] + ss_counts[\"B\"]\n",
        "            coil_types = ss_counts[\"T\"] + ss_counts[\"S\"] + ss_counts[\"-\"]\n",
        "\n",
        "            features[\"alpha_helix_content\"] = helix_types / total\n",
        "            features[\"beta_sheet_content\"] = sheet_types / total\n",
        "            features[\"coil_content\"] = coil_types / total\n",
        "\n",
        "        if hbonds:\n",
        "            features[\"hbond_density\"] = np.mean(hbonds)\n",
        "\n",
        "    except Exception as e:\n",
        "        pass\n",
        "\n",
        "    return features\n",
        "\n",
        "# 3. List PDB files\n",
        "pdb_files = [os.path.join(pdb_folder, f) for f in os.listdir(pdb_folder) if f.endswith(\".pdb\")]\n",
        "print(f\"✅ Found {len(pdb_files)} PDB files.\")\n",
        "\n",
        "# 4. Prepare CSV and header\n",
        "columns = [\"UniProt_ID\", \"mean_pLDDT\", \"alpha_helix_content\", \"beta_sheet_content\", \"coil_content\", \"hbond_density\"]\n",
        "pd.DataFrame(columns=columns).to_csv(output_csv, index=False)\n",
        "\n",
        "# 5. Start parallel feature extraction (buffered)\n",
        "max_workers = 12  # Or however many CPUs you found\n",
        "print(f\"Starting smarter DSSP feature extraction with {max_workers} workers... (Buffered partial saves)\")\n",
        "\n",
        "buffer = []\n",
        "buffer_size = 1000  # Save every 100 entries\n",
        "counter = 0\n",
        "\n",
        "with ProcessPoolExecutor(max_workers=max_workers) as executor:\n",
        "    futures = {executor.submit(extract_features_optimized, pdb_path): pdb_path for pdb_path in pdb_files}\n",
        "\n",
        "    for future in tqdm(as_completed(futures), total=len(futures), desc=\"Extracting Features (Buffered Save Mode)\"):\n",
        "        result = future.result()\n",
        "\n",
        "        if result:\n",
        "            buffer.append(result)\n",
        "            counter += 1\n",
        "\n",
        "            if counter >= buffer_size:\n",
        "                pd.DataFrame(buffer).to_csv(output_csv, mode='a', header=False, index=False)\n",
        "                buffer = []\n",
        "                counter = 0\n",
        "\n",
        "# Save any leftover features at the end\n",
        "if buffer:\n",
        "    pd.DataFrame(buffer).to_csv(output_csv, mode='a', header=False, index=False)\n",
        "\n",
        "print(f\"\\nFeature extraction complete! Saved to {output_csv}\")\n"
      ]
    },
    {
      "cell_type": "code",
      "execution_count": null,
      "metadata": {
        "id": "ROokbu5bApEF"
      },
      "outputs": [],
      "source": []
    },
    {
      "cell_type": "code",
      "execution_count": null,
      "metadata": {
        "id": "KFPGQeDpApG6"
      },
      "outputs": [],
      "source": []
    },
    {
      "cell_type": "code",
      "execution_count": null,
      "metadata": {
        "id": "G5vpJdb5ApK_"
      },
      "outputs": [],
      "source": []
    },
    {
      "cell_type": "code",
      "execution_count": null,
      "metadata": {
        "id": "nSBuojdyApOe"
      },
      "outputs": [],
      "source": []
    },
    {
      "cell_type": "code",
      "execution_count": null,
      "metadata": {
        "id": "vbO9i1pqApR-"
      },
      "outputs": [],
      "source": []
    },
    {
      "cell_type": "code",
      "execution_count": null,
      "metadata": {
        "id": "SgnEIX9dApUo"
      },
      "outputs": [],
      "source": []
    },
    {
      "cell_type": "code",
      "execution_count": null,
      "metadata": {
        "id": "8SPtxMSjApYc"
      },
      "outputs": [],
      "source": []
    },
    {
      "cell_type": "code",
      "execution_count": null,
      "metadata": {
        "id": "FtPnpQfaApb8"
      },
      "outputs": [],
      "source": []
    },
    {
      "cell_type": "code",
      "execution_count": null,
      "metadata": {
        "id": "QPS63vluApgK"
      },
      "outputs": [],
      "source": []
    },
    {
      "cell_type": "code",
      "execution_count": null,
      "metadata": {
        "id": "C2amm3afApjc"
      },
      "outputs": [],
      "source": []
    },
    {
      "cell_type": "code",
      "execution_count": null,
      "metadata": {
        "id": "Ft60W688Apob"
      },
      "outputs": [],
      "source": []
    },
    {
      "cell_type": "code",
      "execution_count": null,
      "metadata": {
        "id": "mlmTYhR7Aprq"
      },
      "outputs": [],
      "source": []
    },
    {
      "cell_type": "code",
      "execution_count": null,
      "metadata": {
        "id": "zcHP82ngApvN"
      },
      "outputs": [],
      "source": []
    },
    {
      "cell_type": "code",
      "execution_count": null,
      "metadata": {
        "id": "cKIcRvD7287j"
      },
      "outputs": [],
      "source": []
    }
  ],
  "metadata": {
    "colab": {
      "machine_shape": "hm",
      "provenance": []
    },
    "kernelspec": {
      "display_name": "Python 3",
      "name": "python3"
    },
    "language_info": {
      "name": "python"
    }
  },
  "nbformat": 4,
  "nbformat_minor": 0
}
